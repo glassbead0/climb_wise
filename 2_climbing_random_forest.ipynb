{
 "cells": [
  {
   "cell_type": "code",
   "execution_count": 6,
   "metadata": {},
   "outputs": [],
   "source": [
    "import numpy as np\n",
    "import pandas as pd\n",
    "import pickleshare\n",
    "import sklearn\n",
    "from sklearn.model_selection import train_test_split\n",
    "import seaborn as sns\n",
    "from sklearn.metrics import roc_auc_score\n",
    "import matplotlib.pyplot as plt\n",
    "from category_encoders import OrdinalEncoder\n",
    "from sklearn.ensemble import RandomForestClassifier\n",
    "from sklearn.ensemble import RandomForestRegressor\n",
    "from sklearn.metrics import classification_report\n",
    "import importlib\n",
    "import climbing_ticks_helper as helper\n",
    "importlib.reload(helper)\n",
    "pd.set_option('display.expand_frame_repr', False) # display full data in terminal\n",
    "%matplotlib inline\n"
   ]
  },
  {
   "cell_type": "code",
   "execution_count": 7,
   "metadata": {},
   "outputs": [
    {
     "name": "stdout",
     "output_type": "stream",
     "text": [
      "Classification report for response variable Attempts:\n",
      "          precision  recall  f1-score  support\n",
      "1              0.88    0.98      0.93   182.00\n",
      "2              0.00    0.00      0.00    18.00\n",
      "3              0.00    0.00      0.00     3.00\n",
      "4              0.00    0.00      0.00     2.00\n",
      "5              0.00    0.00      0.00     1.00\n",
      "accuracy       0.86    0.86      0.86     0.86\n",
      "\n",
      "\n",
      "Classification report for response variable Lead Style:\n",
      "          precision  recall  f1-score  support\n",
      "0              0.87    0.91      0.89   153.00\n",
      "1              0.00    0.00      0.00     8.00\n",
      "2              0.62    0.62      0.62    45.00\n",
      "accuracy       0.81    0.81      0.81     0.81\n",
      "\n",
      "\n"
     ]
    }
   ],
   "source": [
    "\n",
    "df = pd.read_csv('/app/model_ready_ticks.csv')\n",
    "\n",
    "# first take at a Random Forest model:\n",
    "X = df.drop(columns=['Attempts', 'Lead Style'])\n",
    "y = df[['Attempts', 'Lead Style']]\n",
    "X_train, X_test, y_train, y_test = train_test_split(X, y, train_size=0.8)\n",
    "\n",
    "rf = RandomForestClassifier(n_estimators=100)\n",
    "rf.fit(X_train, y_train)\n",
    "\n",
    "y_pred = rf.predict(X_test)\n",
    "y_pred_df = pd.DataFrame(y_pred, columns=y_test.columns)\n",
    "\n",
    "# compute accuracy, recall, precision, f1 score for multi class predictions\n",
    "# Generate classification reports for each response variable\n",
    "for resp in y_test.columns:\n",
    "    print(f\"Classification report for response variable {resp}:\")\n",
    "    # don't print macro avg or weighted avg\n",
    "    cr = classification_report(y_test[resp], y_pred_df[resp], zero_division=0, output_dict=True)\n",
    "    cr.pop('macro avg', None)\n",
    "    cr.pop('weighted avg', None)\n",
    "    prettytable = pd.DataFrame(cr).T\n",
    "    print(prettytable.round(2))\n",
    "    print(\"\\n\");\n"
   ]
  },
  {
   "cell_type": "code",
   "execution_count": 8,
   "metadata": {},
   "outputs": [
    {
     "name": "stdout",
     "output_type": "stream",
     "text": [
      "                           Route    RouteID        Date Route Type  Alpine Safety  Avg Stars  Pitches   Rating Predicted Lead Style     Lead Style  Predicted Attempts  Attempts\n",
      "0             Bolt From the Blue  106784951  2024-03-07      Sport       0      G        3.7        1    5.12a            Fell/Hung  Onsight/Flash                   1         1\n",
      "4                       Fantasia  105753880  2024-11-30      Sport       0      G        3.1        1    5.11c            Fell/Hung  Onsight/Flash                   1         1\n",
      "5         The Richness of It All  107019607  2023-11-05      Sport       0      G        3.7        4    5.12a            Fell/Hung       Redpoint                   1         1\n",
      "6                    Moscow Mule  114140845  2022-06-19      Sport       0      G        2.3        1    5.11d            Fell/Hung  Onsight/Flash                   1         1\n",
      "8         Mrs. Hen Places a Peck  105748591  2023-03-19      Sport       0      G        2.7        1    5.11d            Fell/Hung  Onsight/Flash                   2         1\n",
      "14                In Your Dreams  105763029  2020-09-19      Sport       0      G        2.6        1    5.11a        Onsight/Flash      Fell/Hung                   1         2\n",
      "16        Pump Me Like a Shotgun  105956228  2018-06-05      Sport       0      G        3.6        1    5.11d            Fell/Hung  Onsight/Flash                   1         1\n",
      "27                  Crimp Scampi  105758605  2020-08-30      Sport       0      G        2.6        1    5.11a        Onsight/Flash      Fell/Hung                   1         1\n",
      "46          Breakdown Dead Ahead  105759819  2018-10-22      Sport       0      G        3.3        1    5.11a        Onsight/Flash       Redpoint                   1         1\n",
      "47                 Rotten Pillar  112844621  2022-02-17      Sport       0      G        3.3        1    5.11d        Onsight/Flash      Fell/Hung                   1         2\n",
      "48                Cornered Again  105765165  2019-08-06      Sport       0      G        2.2        1  5.11a/b        Onsight/Flash      Fell/Hung                   1         1\n",
      "55             Anything But Bush  106378499  2024-04-10      Sport       0      G        2.3        1    5.10d        Onsight/Flash      Fell/Hung                   1         1\n",
      "56             Watusi Afterworld  107050005  2020-11-29      Sport       0      G        1.8        1    5.10a        Onsight/Flash      Fell/Hung                   1         1\n",
      "57               Hot Tamale Baby  105863234  2019-07-05      Sport       0      G        3.5        1    5.12a            Fell/Hung  Onsight/Flash                   1         1\n",
      "58                     Road Kill  105748298  2019-05-11      Sport       0      G        2.9        3  5.11c/d            Fell/Hung  Onsight/Flash                   1         1\n",
      "66                      The View  121464048  2020-11-23      Sport       0   PG13        2.0        1    5.11b        Onsight/Flash      Fell/Hung                   1         1\n",
      "86                    Metropolis  105752887  2024-12-22      Sport       0      G        3.4        1    5.11d            Fell/Hung  Onsight/Flash                   2         1\n",
      "91             Different Strokes  106702950  2021-09-29      Sport       0      G        3.1        1    5.11c        Onsight/Flash      Fell/Hung                   1         2\n",
      "115                     Surefire  111212723  2017-08-13      Sport       0      G        3.1        1    5.12a             Redpoint      Fell/Hung                   1         1\n",
      "120                Lost in Space  106782760  2024-03-08      Sport       0      G        3.0        4  5.10b/c        Onsight/Flash      Fell/Hung                   1         1\n",
      "129               Helter Skelter  105752923  2023-03-11      Sport       0      G        3.2        1    5.12a            Fell/Hung  Onsight/Flash                   2         1\n",
      "132                  Tide to Tye  112836417  2017-04-14      Sport       0      G        1.8        1      5.8        Onsight/Flash      Fell/Hung                   1         1\n",
      "134                Flying Circus  105845816  2024-09-09       Trad       0      G        3.6        1    5.10a        Onsight/Flash       Redpoint                   1         1\n",
      "139             Center El Shinto  105856684  2018-06-07      Sport       0      G        3.8        1    5.12b            Fell/Hung  Onsight/Flash                   1         1\n",
      "143                      King Me  105964688  2023-09-26      Sport       0      G        3.8        1    5.11b            Fell/Hung  Onsight/Flash                   1         1\n",
      "144                     Apostasy  105718198  2024-05-18      Sport       0      G        2.1        1    5.10b        Onsight/Flash      Fell/Hung                   1         1\n",
      "153           Frank's Tame Years  106480921  2017-11-18       Trad       0      G        2.9        1    5.11a        Onsight/Flash       Redpoint                   1         2\n",
      "156                Irene's Arete  105804852  2017-07-01       Trad       1      G        3.8        5      5.8            Fell/Hung  Onsight/Flash                   1         1\n",
      "157                 Polar Vortex  119216000  2022-07-30      Sport       0      G        2.9        1    5.10b        Onsight/Flash      Fell/Hung                   1         1\n",
      "159                    Small Fry  107235387  2017-09-09      Sport       0      G        1.3        1  5.10b/c        Onsight/Flash      Fell/Hung                   1         1\n",
      "160                 Wind Machine  105751492  2021-01-24      Sport       0      G        2.0        1  5.11c/d        Onsight/Flash      Fell/Hung                   1         1\n",
      "164                Flame Thrower  105912905  2024-06-15      Sport       0      G        3.7        1    5.11c            Fell/Hung       Redpoint                   1         2\n",
      "168  Lyin' Like a Lion (in Zion)  110250991  2020-05-25      Sport       0      G        1.8        1    5.10d        Onsight/Flash       Redpoint                   1         1\n",
      "170                    Narcissus  105918466  2023-08-31      Sport       0      G        3.6        1    5.12a            Fell/Hung  Onsight/Flash                   1         1\n",
      "190          Woman In The Meadow  106404789  2024-10-06      Sport       0      G        3.3        1    5.11a        Onsight/Flash       Redpoint                   1         1\n",
      "196      Flashback To Acid Beach  105752899  2020-12-24      Sport       0      G        2.6        1    5.10d        Onsight/Flash      Fell/Hung                   1         2\n",
      "198                Silver Dollar  106170444  2021-07-03      Sport       0      G        2.5        1    5.10d        Onsight/Flash      Fell/Hung                   1         1\n",
      "201                        Zorro  105841220  2018-07-14      Sport       0      G        3.8        1    5.11c            Fell/Hung  Onsight/Flash                   1         1\n",
      "202             Random Precision  106577204  2021-09-29      Sport       0      G        3.7        1    5.11b            Fell/Hung       Redpoint                   1         1\n"
     ]
    }
   ],
   "source": [
    "df_readable = pd.read_csv('/app/grouped_ticks.csv')\n",
    "df_readable = df_readable[df_readable['RouteID'].isin(X_test['RouteID'])].set_index('RouteID').loc[X_test['RouteID']].reset_index()\n",
    "df_combined = helper.combine_predictions_with_data(df_readable, y_pred_df)\n",
    "\n",
    "# print all rows that got Lead Style wrong\n",
    "wrong_preds = df_combined[df_combined['Lead Style'] != df_combined['Predicted Lead Style']]\n",
    "right_preds = df_combined\n",
    "print(wrong_preds)"
   ]
  },
  {
   "cell_type": "code",
   "execution_count": 10,
   "metadata": {},
   "outputs": [
    {
     "name": "stdout",
     "output_type": "stream",
     "text": [
      "Stored 'rf' (RandomForestClassifier)\n",
      "Stored 'X_train' (DataFrame)\n",
      "Stored 'X_test' (DataFrame)\n",
      "Stored 'y_train' (DataFrame)\n",
      "Stored 'y_test' (DataFrame)\n",
      "Stored 'df' (DataFrame)\n",
      "Stored 'df_readable' (DataFrame)\n"
     ]
    }
   ],
   "source": [
    "# TODO:\n",
    "# * categorize predictions that are close to the correct answer. EG: predicting an Onsight/Flash when the actual is a Redpoint with only 2 attempts isn't that bad. but predicting an Onsight/Flash when the actual is a Fell/Hung with 5 attempts is bad.\n",
    "# * categorize predictions that though I woudl do better, vs predictions that thought I would do worse\n",
    "\n",
    "def store_vars_for_sharing():\n",
    "    %store rf\n",
    "    %store X_train\n",
    "    %store X_test\n",
    "    %store y_train\n",
    "    %store y_test\n",
    "    %store df\n",
    "    %store df_readable\n",
    "\n",
    "store_vars_for_sharing()"
   ]
  },
  {
   "cell_type": "code",
   "execution_count": null,
   "metadata": {},
   "outputs": [],
   "source": []
  }
 ],
 "metadata": {
  "kernelspec": {
   "display_name": "Python 3 (ipykernel)",
   "language": "python",
   "name": "python3"
  }
 },
 "nbformat": 4,
 "nbformat_minor": 2
}
