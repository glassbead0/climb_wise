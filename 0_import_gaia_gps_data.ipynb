{
 "cells": [
  {
   "cell_type": "code",
   "execution_count": 2,
   "metadata": {},
   "outputs": [],
   "source": [
    "import importlib\n",
    "import folium\n",
    "from shapely.geometry import mapping\n",
    "import models\n",
    "import pandas as pd\n",
    "import geopandas as gpd\n",
    "importlib.reload(models)\n",
    "from models import get_conn\n",
    "pd.set_option('display.expand_frame_repr', False) # display full data in terminal\n",
    "\n",
    "engine, Session = get_conn()"
   ]
  },
  {
   "cell_type": "code",
   "execution_count": null,
   "metadata": {},
   "outputs": [],
   "source": [
    "# Import Trails and Waypoints into Postgres. TODO: support the 4th dimension (time), which contains timestamps. Geopandas doesn't support it. also debug 'activities' which is a list of strings.\n",
    "\n",
    "# change to import new data\n",
    "# filename = 'potrero_chico.geojson'\n",
    "filename = 'gaia_data.geojson'\n",
    "\n",
    "gdf = gpd.read_file(f'geojson_files/{filename}')\n",
    "columns = ['title','color','hexcolor','notes','track_type','routing_mode','distance','total_ascent','total_descent','stopped_time','total_time','average_speed','moving_time','moving_speed','latitude','longitude','geometry']\n",
    "gdf = gpd.GeoDataFrame(gdf[columns], geometry='geometry')\n",
    "trails = gdf[gdf['geometry'].geom_type == 'MultiLineString']\n",
    "# points = gdf[gdf['geometry'].geom_type == 'Point']\n",
    "\n",
    "with Session() as session:\n",
    "    trails.to_postgis(\n",
    "        name='trails',\n",
    "        con=engine,\n",
    "        if_exists='append'\n",
    "    )"
   ]
  },
  {
   "cell_type": "code",
   "execution_count": null,
   "metadata": {},
   "outputs": [],
   "source": []
  },
  {
   "cell_type": "code",
   "execution_count": null,
   "metadata": {},
   "outputs": [],
   "source": []
  }
 ],
 "metadata": {
  "kernelspec": {
   "display_name": "Python 3 (ipykernel)",
   "language": "python",
   "name": "python3"
  },
  "language_info": {
   "codemirror_mode": {
    "name": "ipython",
    "version": 3
   },
   "file_extension": ".py",
   "mimetype": "text/x-python",
   "name": "python",
   "nbconvert_exporter": "python",
   "pygments_lexer": "ipython3",
   "version": "3.13.1"
  }
 },
 "nbformat": 4,
 "nbformat_minor": 2
}
