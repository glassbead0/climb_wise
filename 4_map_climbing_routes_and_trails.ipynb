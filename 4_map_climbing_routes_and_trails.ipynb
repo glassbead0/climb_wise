{
 "cells": [
  {
   "cell_type": "code",
   "execution_count": 7,
   "metadata": {},
   "outputs": [],
   "source": [
    "import folium\n",
    "from folium.plugins import MarkerCluster\n",
    "import pandas as pd\n",
    "import geopandas as gpd\n",
    "import importlib\n",
    "import models\n",
    "importlib.reload(models)\n",
    "from models import TickedRoute, Route, get_conn\n",
    "pd.set_option('display.expand_frame_repr', False) # display full data in terminal\n",
    "\n",
    "engine, Session = get_conn()"
   ]
  },
  {
   "cell_type": "code",
   "execution_count": 2,
   "metadata": {},
   "outputs": [],
   "source": [
    "# Fetch Tick and Route data from DB, organize into geo_data (list of lat/long, name)\n",
    "with Session() as session:\n",
    "    statement = session.query(Route).statement\n",
    "    routes_df = pd.read_sql(statement, con=session.bind)\n",
    "\n",
    "    tick_statement = session.query(TickedRoute.routeid).statement\n",
    "    ticks_df = pd.read_sql(tick_statement, con=session.bind)\n",
    "\n",
    "geo_data = []\n",
    "ticked_ids = ticks_df['routeid'].tolist()\n",
    "\n",
    "for idx, route in routes_df.iterrows():\n",
    "    geo_data.append({'latitude': route['area_latitude'], 'longitude': route['area_longitude'], 'name': route['route_name'], 'ticked': route['routeid'] in ticked_ids})\n"
   ]
  },
  {
   "cell_type": "code",
   "execution_count": 10,
   "metadata": {},
   "outputs": [],
   "source": [
    "# Make a map with all 110k routes. save to HTML as it doesnt render well in vs code.\n",
    "\n",
    "map_center = [geo_data[0]['latitude'], geo_data[0]['longitude']]\n",
    "route_map = folium.Map(location=map_center, zoom_start=5)\n",
    "marker_cluster = MarkerCluster().add_to(route_map)\n",
    "\n",
    "# Add points to the map\n",
    "for point in geo_data:\n",
    "    color = 'green' if point['ticked'] else 'blue'\n",
    "    folium.Marker(\n",
    "        location=[point['latitude'], point['longitude']],\n",
    "        tooltip=point['name'],\n",
    "        icon=folium.Icon(color=color)\n",
    "    ).add_to(marker_cluster)\n",
    "\n",
    "# Save the map to an HTML file\n",
    "route_map.save('html_maps/climbing_areas.html')\n"
   ]
  },
  {
   "cell_type": "code",
   "execution_count": null,
   "metadata": {},
   "outputs": [],
   "source": [
    "# for rendering in VS code, make a new map with a subset of the full data (10000 routes.).\n",
    "\n",
    "geo_data_small = geo_data[:200]\n",
    "map_center = [geo_data_small[0]['latitude'], geo_data_small[0]['longitude']]\n",
    "small_map = folium.Map(location=map_center, width='80%', height=700, zoom_start=5)\n",
    "small_cluster = MarkerCluster().add_to(small_map)\n",
    "\n",
    "for point in geo_data_small:\n",
    "    color = 'green' if point['ticked'] else 'blue'\n",
    "    folium.Marker(\n",
    "        location=[point['latitude'], point['longitude']],\n",
    "        tooltip=point['name'],\n",
    "        icon=folium.Icon(color=color)\n",
    "    ).add_to(small_cluster)\n",
    "\n",
    "small_map"
   ]
  },
  {
   "cell_type": "code",
   "execution_count": null,
   "metadata": {},
   "outputs": [],
   "source": [
    "# read GaiaGPS Trails out of PostGIS, as dataframe\n",
    "with Session() as session:\n",
    "    gdf = gpd.read_postgis(\"SELECT * FROM trails\", con=engine, geom_col='geometry')\n",
    "\n",
    "map = folium.Map(location=[gdf['latitude'].mean(), gdf['longitude'].mean()], width='80%', height=700, zoom_start=5)\n",
    "\n",
    "for _, row in gdf.iterrows():\n",
    "    folium.GeoJson(row['geometry'], name=row['title']).add_to(map)\n",
    "\n",
    "map.save('html_maps/gaia_trails.html')\n",
    "map"
   ]
  },
  {
   "cell_type": "code",
   "execution_count": null,
   "metadata": {},
   "outputs": [],
   "source": []
  }
 ],
 "metadata": {
  "kernelspec": {
   "display_name": "Python 3 (ipykernel)",
   "language": "python",
   "name": "python3"
  },
  "language_info": {
   "codemirror_mode": {
    "name": "ipython",
    "version": 3
   },
   "file_extension": ".py",
   "mimetype": "text/x-python",
   "name": "python",
   "nbconvert_exporter": "python",
   "pygments_lexer": "ipython3",
   "version": "3.13.1"
  }
 },
 "nbformat": 4,
 "nbformat_minor": 2
}
