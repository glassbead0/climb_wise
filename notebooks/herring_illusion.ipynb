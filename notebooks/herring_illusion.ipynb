{
 "cells": [
  {
   "cell_type": "code",
   "execution_count": null,
   "metadata": {},
   "outputs": [],
   "source": [
    "import numpy as np\n",
    "import matplotlib.pyplot as plt\n",
    "import ipywidgets as widgets\n",
    "from IPython.display import display\n",
    "from ipywidgets import interact\n",
    "\n",
    "def generate_hering_illusion(image_size=500, num_radial_lines=40, num_vertical_lines=2, \n",
    "                             vertical_line_spacing=200, curve_strength=0.0001, fractional_gap=2):\n",
    "    \"\"\"\n",
    "    Generates a Hering illusion with adjustable parameters.\n",
    "    \n",
    "    Parameters:\n",
    "        image_size (int): Size of the square image in pixels.\n",
    "        num_radial_lines (int): Number of radial background lines.\n",
    "        num_vertical_lines (int): Number of \"straight\" vertical lines.\n",
    "        vertical_line_spacing (int): Distance between vertical lines.\n",
    "        curve_strength (float): Coefficient determining how much the vertical lines curve to compensate for the illusion.\n",
    "        fractional_gap (float): gap in to leave in the radial lines. default to 2, which leaves no gap. > 2 will leave a gap.\n",
    "    \"\"\"\n",
    "    fig, ax = plt.subplots(figsize=(6, 8))\n",
    "    ax.set_xlim(-image_size//2, image_size//2)\n",
    "    ax.set_ylim(-image_size//2, image_size//2)\n",
    "    ax.set_xticks([])\n",
    "    ax.set_yticks([])\n",
    "    ax.set_frame_on(False)\n",
    "\n",
    "    # Draw radial lines\n",
    "    angles = np.linspace(-np.pi/fractional_gap, np.pi/fractional_gap, num_radial_lines)\n",
    "    for angle in angles:\n",
    "        x = np.array([-image_size//2, image_size//2])\n",
    "        y = np.tan(angle) * x\n",
    "        ax.plot(x, y, color='black', lw=1)\n",
    "\n",
    "    # Draw \"compensated\" vertical lines\n",
    "    y_values = np.linspace(-image_size//2, image_size//2, 300)\n",
    "    for i in range(num_vertical_lines):\n",
    "        x_offset = -vertical_line_spacing//2 + i * vertical_line_spacing\n",
    "        x_values = parity(i)*curve_strength * (y_values ** 2) + x_offset  # Parabolic inward curve\n",
    "        ax.plot(x_values, y_values, color='red', lw=2)\n",
    "\n",
    "    plt.show()\n",
    "\n",
    "def parity(x):\n",
    "    return 1 if x % 2 != 0 else -1\n",
    "\n",
    "# Generate the illusion with adjustable parameters\n",
    "@interact(\n",
    "    image_size=widgets.IntSlider(value=500, min=100, max=1000, step=50, description='Image Size'),\n",
    "    num_radial_lines=widgets.IntSlider(value=40, min=10, max=100, step=5, description='Radial Lines'),\n",
    "    num_vertical_lines=widgets.IntSlider(value=2, min=1, max=10, step=1, description='Vertical Lines'),\n",
    "    vertical_line_spacing=widgets.IntSlider(value=200, min=50, max=500, step=10, description='Line Spacing'),\n",
    "    curve_strength=widgets.FloatSlider(value=0.0001, min=0.00001, max=0.001, step=0.00001, description='Curve Strength'),\n",
    "    fractional_gap=widgets.FloatSlider(value=2, min=1, max=3, step=0.1, description='Fractional Gap')\n",
    ")\n",
    "def update_hering_illusion(image_size, num_radial_lines, num_vertical_lines, vertical_line_spacing, curve_strength, fractional_gap):\n",
    "    generate_hering_illusion(image_size, num_radial_lines, num_vertical_lines, vertical_line_spacing, curve_strength, fractional_gap)\n"
   ]
  },
  {
   "cell_type": "code",
   "execution_count": null,
   "metadata": {},
   "outputs": [],
   "source": []
  }
 ],
 "metadata": {
  "kernelspec": {
   "display_name": "Python 3 (ipykernel)",
   "language": "python",
   "name": "python3"
  },
  "language_info": {
   "codemirror_mode": {
    "name": "ipython",
    "version": 3
   },
   "file_extension": ".py",
   "mimetype": "text/x-python",
   "name": "python",
   "nbconvert_exporter": "python",
   "pygments_lexer": "ipython3",
   "version": "3.13.2"
  }
 },
 "nbformat": 4,
 "nbformat_minor": 2
}
