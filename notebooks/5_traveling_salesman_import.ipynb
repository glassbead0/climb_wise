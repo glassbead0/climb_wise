{
 "cells": [
  {
   "cell_type": "code",
   "execution_count": 1,
   "metadata": {},
   "outputs": [],
   "source": [
    "import pandas as pd\n",
    "from models import get_conn\n",
    "import geopandas as gpd\n",
    "import googlemaps\n",
    "import os\n",
    "from dotenv import load_dotenv\n",
    "pd.set_option('display.expand_frame_repr', False) # display full data in terminal\n",
    "\n",
    "load_dotenv()\n",
    "engine, Session = get_conn()"
   ]
  },
  {
   "cell_type": "code",
   "execution_count": null,
   "metadata": {},
   "outputs": [],
   "source": [
    "# Given a file in csv_files, which was manually exported from Google Maps for the Van Trip, read the file and insert the data into the database\n",
    "# appending new data can be done by adding rows to additional_van_stops.csv and running this script again.\n",
    "\n",
    "\n",
    "# Use acutal google maps API instead of just web scraping. Issues: I'm using the 'Title' of each pin, which didn't return an exact match for all locations. I manually edited ~20 locations in the CSV,\n",
    "# Adding extra keyworks to teh title (often a state), to get the goglemaps api to return the right result. I still have 4 rows that google couldn't match. Since some titles may return multiple\n",
    "# results this doesn't guarantee an exact match.\n",
    "\n",
    "def get_lat_long(title, gmaps):\n",
    "    # Geocode the place to get coordinates\n",
    "    geocode_result = gmaps.geocode(title)\n",
    "    if geocode_result:\n",
    "        lat = geocode_result[0]['geometry']['location']['lat']\n",
    "        lng = geocode_result[0]['geometry']['location']['lng']\n",
    "        return lat, lng\n",
    "    else:\n",
    "        return None, None\n",
    "\n",
    "\n",
    "def fetch_all_lat_long(df, gmaps):\n",
    "    latitudes = []\n",
    "    longitudes = []\n",
    "\n",
    "    for _, location in df.iterrows():\n",
    "        lat, lng = get_lat_long(location.title, gmaps)\n",
    "        latitudes.append(lat)\n",
    "        longitudes.append(lng)\n",
    "\n",
    "    df['latitude'] = latitudes\n",
    "    df['longitude'] = longitudes\n",
    "    return df\n",
    "\n",
    "def main():\n",
    "    api_key = os.getenv('GOOGLE_API_KEY')\n",
    "    gmaps = googlemaps.Client(key=api_key)\n",
    "    \n",
    "    # locations_df_raw = pd.read_csv('csv_files/2023_2024_Van_Trip.csv')\n",
    "    locations_df_raw = pd.read_csv('csv_files/additional_van_stops.csv')\n",
    "    locations_df_raw['notes'] = locations_df_raw['notes'].fillna(\"2023 2024 Van Trip\")\n",
    "    locations_df_raw.drop(columns=['comment', 'url'], inplace=True)\n",
    "\n",
    "    locations_df = fetch_all_lat_long(locations_df_raw, gmaps)\n",
    "\n",
    "    locations_df.dropna(inplace=True)\n",
    "\n",
    "    gdf = gpd.GeoDataFrame(locations_df, geometry=gpd.points_from_xy(locations_df.longitude, locations_df.latitude), crs=\"EPSG:4326\")\n",
    "\n",
    "    with Session() as session:\n",
    "        gdf.to_postgis(name='waypoints', con=engine, if_exists='append')\n",
    "    \n",
    "main()"
   ]
  }
 ],
 "metadata": {
  "kernelspec": {
   "display_name": "Python 3 (ipykernel)",
   "language": "python",
   "name": "python3"
  },
  "language_info": {
   "codemirror_mode": {
    "name": "ipython",
    "version": 3
   },
   "file_extension": ".py",
   "mimetype": "text/x-python",
   "name": "python",
   "nbconvert_exporter": "python",
   "pygments_lexer": "ipython3",
   "version": "3.13.1"
  }
 },
 "nbformat": 4,
 "nbformat_minor": 2
}
