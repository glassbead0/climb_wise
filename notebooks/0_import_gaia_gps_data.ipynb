{
 "cells": [
  {
   "cell_type": "code",
   "execution_count": 2,
   "metadata": {},
   "outputs": [],
   "source": [
    "import importlib\n",
    "from shapely.geometry import mapping\n",
    "import models\n",
    "import geopandas as gpd\n",
    "importlib.reload(models)\n",
    "from models import get_conn\n",
    "\n",
    "engine, Session = get_conn()"
   ]
  },
  {
   "cell_type": "code",
   "execution_count": null,
   "metadata": {},
   "outputs": [],
   "source": [
    "# Import Trails and Waypoints into Postgres. TODO: support the 4th dimension (time), which contains timestamps. Geopandas doesn't natively support it. also debug 'activities' which is a list of strings.\n",
    "\n",
    "# change to import new data\n",
    "# filename = 'potrero_chico.geojson'\n",
    "filename = 'gaia_data.geojson'\n",
    "\n",
    "gdf = gpd.read_file(f'geojson_files/{filename}')\n",
    "columns = ['title','color','hexcolor','notes','track_type','routing_mode','distance','total_ascent','total_descent','stopped_time','total_time','average_speed','moving_time','moving_speed','latitude','longitude','geometry']\n",
    "gdf = gpd.GeoDataFrame(gdf[columns], geometry='geometry')\n",
    "trails = gdf[gdf['geometry'].geom_type == 'MultiLineString']\n",
    "# points = gdf[gdf['geometry'].geom_type == 'Point']\n",
    "\n",
    "with Session() as session:\n",
    "    trails.to_postgis(\n",
    "        name='trails',\n",
    "        con=engine,\n",
    "        if_exists='append'\n",
    "    )"
   ]
  }
 ],
 "metadata": {
  "kernelspec": {
   "display_name": "Python 3 (ipykernel)",
   "language": "python",
   "name": "python3"
  }
 },
 "nbformat": 4,
 "nbformat_minor": 2
}
