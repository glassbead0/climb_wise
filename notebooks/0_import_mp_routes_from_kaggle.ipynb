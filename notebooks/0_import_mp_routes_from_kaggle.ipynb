{
 "cells": [
  {
   "cell_type": "code",
   "execution_count": 42,
   "metadata": {},
   "outputs": [],
   "source": [
    "# MOVED TO src/pipeline  MARKED FOR DELETION BEFORE NEXT COMMIT\n",
    "\n",
    "# import pandas as pd\n",
    "# from pangres import upsert\n",
    "# from models import get_conn\n",
    "# pd.set_option('display.expand_frame_repr', False) # display full data in terminal\n",
    "\n",
    "# engine, Session = get_conn()"
   ]
  },
  {
   "cell_type": "code",
   "execution_count": null,
   "metadata": {},
   "outputs": [],
   "source": [
    "# def handle_unnamed_routes(df):\n",
    "#     '''\n",
    "#     Some routes are unnamed, which means the extracted routid will be wrong (it will be 'route').\n",
    "#     '''\n",
    "#     unnamed_routes = df[df['routeid']=='route']\n",
    "#     unnamed_routes['routeid'] = unnamed_routes['url'].apply(lambda x: x.split('/')[-1])\n",
    "#     df.update(unnamed_routes)\n",
    "#     df['route_name'] = df['route']\n",
    "#     df = df.drop(columns=['route'])\n",
    "#     return df\n",
    "\n",
    "\n",
    "# def prep_raw_mp_data():\n",
    "#     '''\n",
    "#     Read raw data from csv, add a routeid column, handle unnamed routes and other data cleaning.\n",
    "#     '''\n",
    "#     df = pd.read_csv('/app/csv_files/mp_routes.csv').drop(columns=['Unnamed: 0'])\n",
    "\n",
    "#     # remove spaces from column names and make them lowercase\n",
    "#     df.columns = df.columns.str.replace(' ', '_').str.lower()\n",
    "\n",
    "#     # set routeid from the url, which is the second to last element\n",
    "#     df['routeid'] = df['url'].apply(lambda x: x.split('/')[-2])\n",
    "    \n",
    "#     df = handle_unnamed_routes(df)\n",
    "#     return df\n",
    "\n",
    "# def insert_routes(df):\n",
    "#     '''\n",
    "#     Given a dataframe that has been prepped, insert all records into the routes table.\n",
    "#     '''\n",
    "#     with Session() as session:\n",
    "#         upsert(engine, df, 'routes', if_row_exists='update')\n",
    "#         # df.to_sql('routes', con=engine, if_exists='append', index=False)\n",
    "\n",
    "# def main():\n",
    "#     df = prep_raw_mp_data()\n",
    "#     insert_routes(df)\n",
    "\n",
    "# if __name__ == '__main__':\n",
    "#     main()\n"
   ]
  },
  {
   "cell_type": "code",
   "execution_count": null,
   "metadata": {},
   "outputs": [],
   "source": []
  }
 ],
 "metadata": {
  "kernelspec": {
   "display_name": "Python 3 (ipykernel)",
   "language": "python",
   "name": "python3"
  },
  "language_info": {
   "codemirror_mode": {
    "name": "ipython",
    "version": 3
   },
   "file_extension": ".py",
   "mimetype": "text/x-python",
   "name": "python",
   "nbconvert_exporter": "python",
   "pygments_lexer": "ipython3",
   "version": "3.13.1"
  }
 },
 "nbformat": 4,
 "nbformat_minor": 2
}
