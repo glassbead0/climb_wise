{
 "cells": [
  {
   "cell_type": "code",
   "execution_count": 42,
   "metadata": {},
   "outputs": [],
   "source": [
    "import pandas as pd\n",
    "import importlib\n",
    "import models\n",
    "importlib.reload(models)\n",
    "from models import Base, Route, get_conn\n",
    "pd.set_option('display.expand_frame_repr', False) # display full data in terminal\n",
    "\n",
    "engine, Session = get_conn()"
   ]
  },
  {
   "cell_type": "code",
   "execution_count": null,
   "metadata": {},
   "outputs": [],
   "source": [
    "\n",
    "def import_all_mp_routes():\n",
    "    df = pd.read_csv('/app/csv_files/mp_routes.csv').drop(columns=['Unnamed: 0'])\n",
    "    df.columns = df.columns.str.replace(' ', '_').str.lower()\n",
    "\n",
    "    # set routeid from the url\n",
    "    df['routeid'] = df['url'].apply(lambda x: x.split('/')[-2])\n",
    "    # handle unnamed routes, where the url lacks the last part\n",
    "    unnamed_routes = df[df['routeid']=='route']\n",
    "    unnamed_routes['routeid'] = unnamed_routes['url'].apply(lambda x: x.split('/')[-1])\n",
    "    df.update(unnamed_routes)\n",
    "    df['route_name'] = df['route']\n",
    "    df = df.drop(columns=['route'])\n",
    "\n",
    "\n",
    "    with Session() as session:\n",
    "        df.to_sql('routes', con=engine, if_exists='append', index=False)\n",
    "\n",
    "import_all_mp_routes()"
   ]
  },
  {
   "cell_type": "code",
   "execution_count": null,
   "metadata": {},
   "outputs": [],
   "source": []
  }
 ],
 "metadata": {
  "kernelspec": {
   "display_name": "Python 3 (ipykernel)",
   "language": "python",
   "name": "python3"
  },
  "language_info": {
   "codemirror_mode": {
    "name": "ipython",
    "version": 3
   },
   "file_extension": ".py",
   "mimetype": "text/x-python",
   "name": "python",
   "nbconvert_exporter": "python",
   "pygments_lexer": "ipython3",
   "version": "3.13.1"
  }
 },
 "nbformat": 4,
 "nbformat_minor": 2
}
