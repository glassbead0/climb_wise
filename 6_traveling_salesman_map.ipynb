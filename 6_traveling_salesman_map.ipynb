{
 "cells": [
  {
   "cell_type": "code",
   "execution_count": 6,
   "metadata": {},
   "outputs": [],
   "source": [
    "import folium\n",
    "from folium.plugins import FastMarkerCluster, MarkerCluster\n",
    "import sqlalchemy\n",
    "import geopandas as gpd\n",
    "from models import get_conn\n",
    "import pandas as pd\n",
    "pd.set_option('display.expand_frame_repr', False) # display full data in terminal\n",
    "engine, Session = get_conn()"
   ]
  },
  {
   "cell_type": "code",
   "execution_count": null,
   "metadata": {},
   "outputs": [],
   "source": [
    "with Session() as session:\n",
    "    waypoints = gpd.read_postgis(\"SELECT * FROM waypoints WHERE notes  = '2023 2024 Van Trip'\", con=engine, geom_col='geometry')\n",
    "\n",
    "center = [waypoints.latitude.mean(), waypoints.longitude.mean()]\n",
    "map = folium.Map(location=center, zoom_start=6)\n",
    "\n",
    "for _, point in waypoints.iterrows():\n",
    "    folium.Marker(\n",
    "        location = [point.latitude, point.longitude],\n",
    "        tooltip=point.title,\n",
    "        icon=folium.Icon(color='lightgray', icon='glyphicon-plus')\n",
    "    ).add_to(map)\n",
    "\n",
    "map"
   ]
  },
  {
   "cell_type": "code",
   "execution_count": null,
   "metadata": {},
   "outputs": [],
   "source": []
  }
 ],
 "metadata": {
  "kernelspec": {
   "display_name": "Python 3 (ipykernel)",
   "language": "python",
   "name": "python3"
  },
  "language_info": {
   "codemirror_mode": {
    "name": "ipython",
    "version": 3
   },
   "file_extension": ".py",
   "mimetype": "text/x-python",
   "name": "python",
   "nbconvert_exporter": "python",
   "pygments_lexer": "ipython3",
   "version": "3.13.1"
  }
 },
 "nbformat": 4,
 "nbformat_minor": 2
}
