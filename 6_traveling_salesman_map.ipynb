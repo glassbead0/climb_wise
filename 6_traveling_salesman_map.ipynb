{
 "cells": [
  {
   "cell_type": "code",
   "execution_count": 1,
   "metadata": {},
   "outputs": [],
   "source": [
    "import folium\n",
    "from folium import CircleMarker\n",
    "import geopandas as gpd\n",
    "import importlib\n",
    "import models\n",
    "importlib.reload(models)\n",
    "from models import get_conn\n",
    "import pandas as pd\n",
    "import elkai\n",
    "pd.set_option('display.expand_frame_repr', False) # display full data in terminal\n",
    "engine, Session = get_conn()"
   ]
  },
  {
   "cell_type": "code",
   "execution_count": 28,
   "metadata": {},
   "outputs": [],
   "source": [
    "with Session() as session:\n",
    "    waypoints = gpd.read_postgis(\"SELECT * FROM waypoints WHERE notes  = '2023 2024 Van Trip'\", con=engine, geom_col='geometry')\n",
    "\n",
    "# Travelling Salseman\n",
    "\n",
    "# Move 'Denver Colorado' to the first position in waypoints\n",
    "denver = waypoints[waypoints.title == 'Denver Colorado']\n",
    "not_denver = waypoints[waypoints.title != 'Denver Colorado']\n",
    "places = pd.concat([denver, not_denver]).reset_index(drop=True)\n",
    "\n",
    "waypoints_dict = {}\n",
    "for _, row in places.iterrows():\n",
    "    waypoints_dict[row.title] = (row.latitude, row.longitude)\n",
    "\n",
    "runs = 1\n",
    "\n",
    "solved_cities = elkai.Coordinates2D(waypoints_dict).solve_tsp(runs=runs)\n"
   ]
  },
  {
   "cell_type": "code",
   "execution_count": null,
   "metadata": {},
   "outputs": [],
   "source": [
    "# draw cities\n",
    "center = [waypoints.latitude.mean(), waypoints.longitude.mean()]\n",
    "map = folium.Map(location=center, zoom_start=5)\n",
    "\n",
    "for _, point in waypoints.iterrows():\n",
    "    folium.CircleMarker(\n",
    "        location = [point.latitude, point.longitude],\n",
    "        radius=3,\n",
    "        color='blue',\n",
    "        weight=1,\n",
    "        fill=False,\n",
    "        fill_color='blue',\n",
    "        fill_opacity=0.2,\n",
    "        tooltip=point.title,\n",
    "    ).add_to(map)\n",
    "map\n",
    "\n",
    "# Draw TSP route\n",
    "ordered_indices = [waypoints[waypoints.title == title].index[0] for title in solved_cities]\n",
    "ordered_waypoints = waypoints.loc[ordered_indices].reset_index(drop=True)\n",
    "\n",
    "coords = [[w.latitude, w.longitude] for _, w in ordered_waypoints.iterrows()]\n",
    "\n",
    "folium.PolyLine(\n",
    "    locations=coords,\n",
    "    color='red',\n",
    "    weight=2,\n",
    "    opacity=1\n",
    ").add_to(map)\n",
    "map"
   ]
  },
  {
   "cell_type": "code",
   "execution_count": null,
   "metadata": {},
   "outputs": [],
   "source": []
  }
 ],
 "metadata": {
  "kernelspec": {
   "display_name": "Python 3 (ipykernel)",
   "language": "python",
   "name": "python3"
  },
  "language_info": {
   "codemirror_mode": {
    "name": "ipython",
    "version": 3
   },
   "file_extension": ".py",
   "mimetype": "text/x-python",
   "name": "python",
   "nbconvert_exporter": "python",
   "pygments_lexer": "ipython3",
   "version": "3.13.1"
  }
 },
 "nbformat": 4,
 "nbformat_minor": 2
}
