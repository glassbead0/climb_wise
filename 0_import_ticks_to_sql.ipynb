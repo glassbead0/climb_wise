{
 "cells": [
  {
   "cell_type": "code",
   "execution_count": null,
   "metadata": {},
   "outputs": [],
   "source": [
    "import requests\n",
    "import pandas as pd\n",
    "import importlib\n",
    "import models\n",
    "importlib.reload(models)\n",
    "from models import Base, Tick, get_engine, get_sessionmaker\n",
    "pd.set_option('display.expand_frame_repr', False) # display full data in terminal\n",
    "\n",
    "engine = get_engine()\n",
    "Session = get_sessionmaker(engine)\n",
    "\n",
    "Base.metadata.create_all(engine)"
   ]
  },
  {
   "cell_type": "code",
   "execution_count": 25,
   "metadata": {},
   "outputs": [],
   "source": [
    "# fetch data, save a raw csv. no need to run this cell if `ticks_raw.csv` alredy exists.\n",
    "def fetch_mp_data(url) -> pd.DataFrame:\n",
    "    '''\n",
    "    MountainProject used to have an API to get tick data, but they shut it down. \n",
    "    But download urls are not authenticated so, just use download url you want.\n",
    "    '''\n",
    "    response = requests.get(tick_url)\n",
    "    response.raise_for_status()\n",
    "    with open('/app/csv_files/ticks_raw.csv', 'wb') as file:\n",
    "        file.write(response.content)\n",
    "\n",
    "tick_url = \"https://www.mountainproject.com/user/107708526/aaron-glasenapp/tick-export\"\n",
    "fetch_mp_data(tick_url)"
   ]
  },
  {
   "cell_type": "code",
   "execution_count": 2,
   "metadata": {},
   "outputs": [
    {
     "name": "stdout",
     "output_type": "stream",
     "text": [
      "Currently 0 ticks.\n",
      "After insert: 2560 ticks.\n"
     ]
    }
   ],
   "source": [
    "# use the dataframe to insert into Ticks table in postgres.\n",
    "df_raw = pd.read_csv('/app/csv_files/ticks_raw.csv')\n",
    "df = df_raw.copy()\n",
    "df.columns = df.columns.str.replace(' ', '_').str.lower()\n",
    "\n",
    "def insert_ticks_from_dataframe(df):\n",
    "    session = Session()\n",
    "    current_ticks = session.query(Tick).all()\n",
    "    print(f'Currently {len(current_ticks)} ticks.')\n",
    "\n",
    "    df.to_sql('ticks', con=engine, if_exists='append', index=False)\n",
    "\n",
    "    current_ticks = session.query(Tick).all()\n",
    "    print(f'After insert: {len(current_ticks)} ticks.')\n",
    "\n",
    "    session.close()\n",
    "\n",
    "insert_ticks_from_dataframe(df)"
   ]
  },
  {
   "cell_type": "code",
   "execution_count": null,
   "metadata": {},
   "outputs": [],
   "source": []
  }
 ],
 "metadata": {
  "kernelspec": {
   "display_name": "Python 3 (ipykernel)",
   "language": "python",
   "name": "python3"
  },
  "language_info": {
   "codemirror_mode": {
    "name": "ipython",
    "version": 3
   },
   "file_extension": ".py",
   "mimetype": "text/x-python",
   "name": "python",
   "nbconvert_exporter": "python",
   "pygments_lexer": "ipython3",
   "version": "3.13.1"
  }
 },
 "nbformat": 4,
 "nbformat_minor": 2
}
