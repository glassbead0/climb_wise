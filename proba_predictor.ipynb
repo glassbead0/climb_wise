{
 "cells": [
  {
   "cell_type": "code",
   "execution_count": 2,
   "metadata": {},
   "outputs": [
    {
     "name": "stdout",
     "output_type": "stream",
     "text": [
      "no stored variable or alias rf\n",
      "no stored variable or alias X_train\n",
      "no stored variable or alias X_test\n",
      "no stored variable or alias y_train\n",
      "no stored variable or alias y_test\n",
      "no stored variable or alias df\n",
      "no stored variable or alias df_readable\n"
     ]
    }
   ],
   "source": [
    "def import_all_the_things():\n",
    "    import numpy as np\n",
    "    import pandas as pd\n",
    "    import pickleshare\n",
    "    import sklearn\n",
    "    from sklearn.model_selection import train_test_split\n",
    "    import seaborn as sns\n",
    "    from sklearn.metrics import roc_auc_score\n",
    "    import matplotlib.pyplot as plt\n",
    "    from category_encoders import OrdinalEncoder\n",
    "    from sklearn.ensemble import RandomForestClassifier\n",
    "    from sklearn.ensemble import RandomForestRegressor\n",
    "    from sklearn.metrics import classification_report\n",
    "    import importlib\n",
    "    import climbing_ticks_helper as helper\n",
    "    importlib.reload(helper)\n",
    "    pd.set_option('display.expand_frame_repr', False) # display full data in terminal\n",
    "    %matplotlib inline\n",
    "\n",
    "import_all_the_things()\n",
    "\n",
    "def restore_vars_from_rf_notebook():\n",
    "    %store -r rf\n",
    "    %store -r X_train\n",
    "    %store -r X_test\n",
    "    %store -r y_train\n",
    "    %store -r y_test\n",
    "    %store -r df\n",
    "    %store -r df_readable\n",
    "\n",
    "restore_vars_from_rf_notebook()"
   ]
  },
  {
   "cell_type": "code",
   "execution_count": null,
   "metadata": {},
   "outputs": [
    {
     "ename": "",
     "evalue": "",
     "output_type": "error",
     "traceback": [
      "\u001b[1;31mThe Kernel crashed while executing code in the current cell or a previous cell. \n",
      "\u001b[1;31mPlease review the code in the cell(s) to identify a possible cause of the failure. \n",
      "\u001b[1;31mClick <a href='https://aka.ms/vscodeJupyterKernelCrash'>here</a> for more info. \n",
      "\u001b[1;31mView Jupyter <a href='command:jupyter.viewOutput'>log</a> for further details."
     ]
    }
   ],
   "source": [
    "# Predicting probabilities withe the Random Forest as it is now leads to result that don't make sense. eg:\n",
    "# predicting these probabilities for OS/Flash, RP, Fell: [0.31, 0.14, 0.55]. If there's a 55% chance of not sending at all,\n",
    "# then the probability of Redpointing should be higher than the Probability of Onsighting. (unless I have a propensity to give up on a route after 1 attempt I guess?)\n",
    "proba_predictions = rf.predict_proba(X_test)\n",
    "hard_predictions = rf.predict(X_test)\n",
    "\n",
    "combined_df = helper.combine_proba_predictions_with_data(df_readable, proba_predictions)"
   ]
  },
  {
   "cell_type": "code",
   "execution_count": null,
   "metadata": {},
   "outputs": [],
   "source": []
  }
 ],
 "metadata": {
  "kernelspec": {
   "display_name": "Python 3 (ipykernel)",
   "language": "python",
   "name": "python3"
  }
 },
 "nbformat": 4,
 "nbformat_minor": 2
}
